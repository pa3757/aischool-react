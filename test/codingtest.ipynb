{
 "cells": [
  {
   "cell_type": "code",
   "execution_count": 66,
   "metadata": {},
   "outputs": [],
   "source": [
    "# 프로그래머스 스택/큐 > 같은 숫자는 싫어\n",
    "arr =[1,1,3,3,0,1,1]\n",
    "def solution(arr):\n",
    "    answer = []\n",
    "    # 연속해서 같은 수가 나오면 하나만 남기고 제거\n",
    "    for i in range(len(arr)):\n",
    "        if i == 0:\n",
    "            answer.append(arr[i])\n",
    "        elif arr[i] != arr[i-1]:\n",
    "            answer.append(arr[i])\n",
    "    return answer\n"
   ]
  },
  {
   "cell_type": "code",
   "execution_count": 67,
   "metadata": {},
   "outputs": [
    {
     "name": "stdout",
     "output_type": "stream",
     "text": [
      "[1, 3, 0, 1]\n"
     ]
    }
   ],
   "source": [
    "print(solution(arr))"
   ]
  },
  {
   "cell_type": "code",
   "execution_count": 65,
   "metadata": {},
   "outputs": [
    {
     "data": {
      "text/plain": [
       "2"
      ]
     },
     "execution_count": 65,
     "metadata": {},
     "output_type": "execute_result"
    }
   ],
   "source": []
  },
  {
   "cell_type": "code",
   "execution_count": null,
   "metadata": {},
   "outputs": [],
   "source": []
  }
 ],
 "metadata": {
  "kernelspec": {
   "display_name": "Python 3",
   "language": "python",
   "name": "python3"
  },
  "language_info": {
   "codemirror_mode": {
    "name": "ipython",
    "version": 3
   },
   "file_extension": ".py",
   "mimetype": "text/x-python",
   "name": "python",
   "nbconvert_exporter": "python",
   "pygments_lexer": "ipython3",
   "version": "3.12.3"
  }
 },
 "nbformat": 4,
 "nbformat_minor": 2
}
